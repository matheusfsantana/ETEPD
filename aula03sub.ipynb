{
  "nbformat": 4,
  "nbformat_minor": 0,
  "metadata": {
    "colab": {
      "name": "aula03sub.ipynb",
      "provenance": [],
      "authorship_tag": "ABX9TyMArmctWSpBC/83twODqq78",
      "include_colab_link": true
    },
    "kernelspec": {
      "name": "python3",
      "display_name": "Python 3"
    },
    "language_info": {
      "name": "python"
    }
  },
  "cells": [
    {
      "cell_type": "markdown",
      "metadata": {
        "id": "view-in-github",
        "colab_type": "text"
      },
      "source": [
        "<a href=\"https://colab.research.google.com/github/matheusfsantana/ETEPD/blob/main/aula03sub.ipynb\" target=\"_parent\"><img src=\"https://colab.research.google.com/assets/colab-badge.svg\" alt=\"Open In Colab\"/></a>"
      ]
    },
    {
      "cell_type": "code",
      "execution_count": 2,
      "metadata": {
        "colab": {
          "base_uri": "https://localhost:8080/"
        },
        "id": "69TlzVnUBGZT",
        "outputId": "763f1d31-4f1a-40d3-92e8-1d964335018f"
      },
      "outputs": [
        {
          "output_type": "stream",
          "name": "stdout",
          "text": [
            "Olá, ETE PORTO DIGITAL!\n"
          ]
        }
      ],
      "source": [
        "# ETE PORTO DIGITAL\n",
        "# DISCIPLINA: LPC1\n",
        "# PROFESSOR: CLOVES\n",
        "# ESTUDANTE: MATHEUS F. S.\n",
        "\n",
        "print ('Olá, ETE PORTO DIGITAL!')"
      ]
    }
  ]
}